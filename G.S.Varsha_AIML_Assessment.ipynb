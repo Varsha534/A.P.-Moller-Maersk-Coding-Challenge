{
 "cells": [
  {
   "cell_type": "code",
   "execution_count": 1,
   "id": "366e884b",
   "metadata": {},
   "outputs": [],
   "source": [
    "import pandas as pd\n",
    "import matplotlib.pyplot as plt"
   ]
  },
  {
   "cell_type": "markdown",
   "id": "76f6520a",
   "metadata": {},
   "source": [
    "Data Understanding and Exploration"
   ]
  },
  {
   "cell_type": "code",
   "execution_count": 2,
   "id": "404cd67c-1bae-4ea3-b029-af816fa87e56",
   "metadata": {},
   "outputs": [
    {
     "name": "stdout",
     "output_type": "stream",
     "text": [
      "       ProductType Manufacturer Area Code Sourcing Channel Product Size  \\\n",
      "0             NTM3           X1       A28        WHOLESALE        Large   \n",
      "1             NTM2           X1        A9           DIRECT        Large   \n",
      "2             NTM3           X2       A20           DIRECT        Large   \n",
      "3             NTM3           X1       A18        WHOLESALE        Small   \n",
      "4             NTM2           X1       A28           DIRECT        Large   \n",
      "...            ...          ...       ...              ...          ...   \n",
      "550171        NTM2           X1        A5           DIRECT        Large   \n",
      "550172        NTM3           X1       A14           DIRECT        Large   \n",
      "550173        NTM2           X1        A5           DIRECT        Small   \n",
      "550174        NTM2           X1        A7           DIRECT        Small   \n",
      "550175        NTM1           X1        A3           DIRECT        Small   \n",
      "\n",
      "       Product Type Month of Sourcing  Sourcing Cost  \n",
      "0            Powder            May-21          10.16  \n",
      "1            Powder            Oct-20         134.28  \n",
      "2            Powder            Dec-20          12.46  \n",
      "3            Powder            Feb-21         107.22  \n",
      "4            Liquid            Nov-20         197.76  \n",
      "...             ...               ...            ...  \n",
      "550171       Powder            Jul-20         136.47  \n",
      "550172       Liquid            Oct-20          72.56  \n",
      "550173       Powder            Mar-21         147.64  \n",
      "550174       Powder            Feb-21         150.04  \n",
      "550175       Powder            Nov-20         139.42  \n",
      "\n",
      "[550176 rows x 8 columns]\n",
      "   ProductType Manufacturer Area Code Sourcing Channel Product Size  \\\n",
      "0         NTM1           X1        A1           DIRECT        Small   \n",
      "1         NTM1           X1       A10           DIRECT        Large   \n",
      "2         NTM1           X1       A10             ECOM        Large   \n",
      "3         NTM1           X1       A11           DIRECT        Large   \n",
      "4         NTM1           X1        A2           DIRECT        Large   \n",
      "..         ...          ...       ...              ...          ...   \n",
      "91        NTM3           X1       A44           DIRECT        Small   \n",
      "92        NTM3           X1        A8           DIRECT        Large   \n",
      "93        NTM3           X1        A8           DIRECT        Small   \n",
      "94        NTM3           X2       A20           DIRECT        Large   \n",
      "95        NTM3           X3       A22           RETAIL        Large   \n",
      "\n",
      "   Product Type Month of Sourcing  Sourcing Cost  \n",
      "0        Powder            Jun-21         103.68  \n",
      "1        Powder            Jun-21         155.75  \n",
      "2        Powder            Jun-21         143.02  \n",
      "3        Powder            Jun-21         139.39  \n",
      "4        Powder            Jun-21         169.42  \n",
      "..          ...               ...            ...  \n",
      "91       Liquid            Jun-21          89.57  \n",
      "92       Powder            Jun-21         114.57  \n",
      "93       Powder            Jun-21         111.26  \n",
      "94       Powder            Jun-21          32.32  \n",
      "95       Powder            Jun-21          40.73  \n",
      "\n",
      "[96 rows x 8 columns]\n"
     ]
    }
   ],
   "source": [
    "train_data = pd.read_csv(r\"C:\\Users\\malli\\Downloads\\DS_ML Coding Challenge Dataset - Training Dataset.csv\")\n",
    "test_data = pd.read_csv(r\"C:\\Users\\malli\\Downloads\\DS_ML Coding Challenge Dataset - Test Dataset.csv\")\n",
    "print(train_data)\n",
    "print(test_data)"
   ]
  },
  {
   "cell_type": "code",
   "execution_count": 3,
   "id": "05f26bf4-923b-4c54-80cf-be3ac8477b0c",
   "metadata": {},
   "outputs": [
    {
     "name": "stdout",
     "output_type": "stream",
     "text": [
      "<class 'pandas.core.frame.DataFrame'>\n",
      "RangeIndex: 550176 entries, 0 to 550175\n",
      "Data columns (total 8 columns):\n",
      " #   Column             Non-Null Count   Dtype  \n",
      "---  ------             --------------   -----  \n",
      " 0   ProductType        550176 non-null  object \n",
      " 1   Manufacturer       550176 non-null  object \n",
      " 2   Area Code          550176 non-null  object \n",
      " 3   Sourcing Channel   550176 non-null  object \n",
      " 4   Product Size       550176 non-null  object \n",
      " 5   Product Type       550176 non-null  object \n",
      " 6   Month of Sourcing  550176 non-null  object \n",
      " 7   Sourcing Cost      550176 non-null  float64\n",
      "dtypes: float64(1), object(7)\n",
      "memory usage: 33.6+ MB\n"
     ]
    }
   ],
   "source": [
    "train_data.shape\n",
    "train_data.info()"
   ]
  },
  {
   "cell_type": "code",
   "execution_count": 4,
   "id": "95390770",
   "metadata": {},
   "outputs": [
    {
     "name": "stdout",
     "output_type": "stream",
     "text": [
      "<class 'pandas.core.frame.DataFrame'>\n",
      "RangeIndex: 96 entries, 0 to 95\n",
      "Data columns (total 8 columns):\n",
      " #   Column             Non-Null Count  Dtype  \n",
      "---  ------             --------------  -----  \n",
      " 0   ProductType        96 non-null     object \n",
      " 1   Manufacturer       96 non-null     object \n",
      " 2   Area Code          96 non-null     object \n",
      " 3   Sourcing Channel   96 non-null     object \n",
      " 4   Product Size       96 non-null     object \n",
      " 5   Product Type       96 non-null     object \n",
      " 6   Month of Sourcing  96 non-null     object \n",
      " 7   Sourcing Cost      96 non-null     float64\n",
      "dtypes: float64(1), object(7)\n",
      "memory usage: 6.1+ KB\n"
     ]
    }
   ],
   "source": [
    "test_data.shape\n",
    "test_data.info()"
   ]
  },
  {
   "cell_type": "code",
   "execution_count": 5,
   "id": "901a9d24",
   "metadata": {},
   "outputs": [
    {
     "data": {
      "text/plain": [
       "(7380, 8)"
      ]
     },
     "execution_count": 5,
     "metadata": {},
     "output_type": "execute_result"
    }
   ],
   "source": [
    "train_data=train_data.drop_duplicates()\n",
    "train_data.shape"
   ]
  },
  {
   "cell_type": "code",
   "execution_count": 6,
   "id": "ed04dca4",
   "metadata": {},
   "outputs": [
    {
     "data": {
      "text/plain": [
       "(96, 8)"
      ]
     },
     "execution_count": 6,
     "metadata": {},
     "output_type": "execute_result"
    }
   ],
   "source": [
    "test_data=test_data.drop_duplicates()\n",
    "test_data.shape"
   ]
  },
  {
   "cell_type": "code",
   "execution_count": 7,
   "id": "4899f653",
   "metadata": {},
   "outputs": [
    {
     "data": {
      "text/plain": [
       "ProductType          0\n",
       "Manufacturer         0\n",
       "Area Code            0\n",
       "Sourcing Channel     0\n",
       "Product Size         0\n",
       "Product Type         0\n",
       "Month of Sourcing    0\n",
       "Sourcing Cost        0\n",
       "dtype: int64"
      ]
     },
     "execution_count": 7,
     "metadata": {},
     "output_type": "execute_result"
    }
   ],
   "source": [
    "train_data.isna().sum()\n",
    "test_data.isna().sum() "
   ]
  },
  {
   "cell_type": "code",
   "execution_count": 8,
   "id": "4a4222fb",
   "metadata": {},
   "outputs": [
    {
     "name": "stdout",
     "output_type": "stream",
     "text": [
      "       ProductType Manufacturer Area Code Sourcing Channel Product Size  \\\n",
      "139626        NTM1           X2       A12           DIRECT        Large   \n",
      "138833        NTM1           X1        A3           DIRECT        Large   \n",
      "138834        NTM1           X1       A11           DIRECT        Large   \n",
      "138835        NTM1           X1        A3           DIRECT        Small   \n",
      "138836        NTM1           X1        A8           DIRECT        Large   \n",
      "...            ...          ...       ...              ...          ...   \n",
      "140514        NTM3           X1       A28           DIRECT        Small   \n",
      "140525        NTM3           X1       A25           RETAIL        Large   \n",
      "140530        NTM3           X1       A28           DIRECT        Small   \n",
      "140381        NTM3           X1       A44           DIRECT        Small   \n",
      "549942        NTM3           X1       A35           DIRECT   ExtraLarge   \n",
      "\n",
      "       Product Type Month of Sourcing  Sourcing Cost  \n",
      "139626       Powder            May-21          10.19  \n",
      "138833       Powder            Aug-20         139.95  \n",
      "138834       Powder            Dec-20         147.39  \n",
      "138835       Powder            Jan-21         149.15  \n",
      "138836       Powder            Sep-20         138.22  \n",
      "...             ...               ...            ...  \n",
      "140514       Powder            Apr-21           6.71  \n",
      "140525       Powder            Dec-20         129.42  \n",
      "140530       Powder            Jul-20          14.14  \n",
      "140381       Liquid            Dec-20          66.27  \n",
      "549942       Powder            Oct-20        3705.00  \n",
      "\n",
      "[7380 rows x 8 columns]\n"
     ]
    }
   ],
   "source": [
    "train_data = train_data.sort_values(by='ProductType')\n",
    "print(train_data)"
   ]
  },
  {
   "cell_type": "code",
   "execution_count": null,
   "id": "7958e64e-b3a6-4a83-96a2-9be3e3575d39",
   "metadata": {},
   "outputs": [],
   "source": []
  }
 ],
 "metadata": {
  "kernelspec": {
   "display_name": "Python 3 (ipykernel)",
   "language": "python",
   "name": "python3"
  },
  "language_info": {
   "codemirror_mode": {
    "name": "ipython",
    "version": 3
   },
   "file_extension": ".py",
   "mimetype": "text/x-python",
   "name": "python",
   "nbconvert_exporter": "python",
   "pygments_lexer": "ipython3",
   "version": "3.12.2"
  }
 },
 "nbformat": 4,
 "nbformat_minor": 5
}
